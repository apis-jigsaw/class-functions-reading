{
 "cells": [
  {
   "cell_type": "markdown",
   "metadata": {},
   "source": [
    "# Class Functions Reading"
   ]
  },
  {
   "cell_type": "markdown",
   "metadata": {},
   "source": [
    "### Introduction"
   ]
  },
  {
   "cell_type": "markdown",
   "metadata": {},
   "source": [
    "In this lesson we'll learn about class methods.  Class methods methods that allow us to ask questions or perform operations on a *collection* of instances, as opposed to an individual instance.  We'll see that these methods often align with the SELECT commands in our relational databases."
   ]
  },
  {
   "cell_type": "markdown",
   "metadata": {},
   "source": [
    "### Sending Messages to Instances"
   ]
  },
  {
   "cell_type": "markdown",
   "metadata": {},
   "source": [
    "So far, when we have written our classes we have relied on instance methods when coding out our functions.  For example, imagine we want to add a function called `is_expensive` to each `ingredient` instance."
   ]
  },
  {
   "cell_type": "code",
   "execution_count": 1,
   "metadata": {},
   "outputs": [],
   "source": [
    "class Ingredient:\n",
    "    def is_expensive(self):\n",
    "        return self.price > 10 "
   ]
  },
  {
   "cell_type": "code",
   "execution_count": 3,
   "metadata": {},
   "outputs": [
    {
     "data": {
      "text/plain": [
       "True"
      ]
     },
     "execution_count": 3,
     "metadata": {},
     "output_type": "execute_result"
    }
   ],
   "source": [
    "salmon = Ingredient()\n",
    "salmon.price = 12\n",
    "salmon.is_expensive()"
   ]
  },
  {
   "cell_type": "markdown",
   "metadata": {},
   "source": [
    "Notice that we can think of our function as allowing us to ask a question of the instance.  When we call `is_expensive`, we send a message to the instance and it responds in turn.  From inside the class, the receiver of the method call is `self`."
   ]
  },
  {
   "cell_type": "markdown",
   "metadata": {},
   "source": [
    "### Sending messages to classes"
   ]
  },
  {
   "cell_type": "markdown",
   "metadata": {},
   "source": [
    "Now we can also ask questions of our classes.  What types of questions?  Well, remember we think of our class as a factory.  And so we might ask our ingredient factory questions about the collection of records.  For example, what is the `most_expensive` ingredients, a list of all expensive ingredients, etc.  In other words, any questions where we have one or more instances returned should use a class method.  \n",
    "\n",
    "Ok, let's see how we can write a class method in Python."
   ]
  },
  {
   "cell_type": "code",
   "execution_count": 4,
   "metadata": {},
   "outputs": [],
   "source": [
    "class Ingredient:\n",
    "    def is_expensive(self):\n",
    "        return self.price > 10 \n",
    "    \n",
    "    @classmethod\n",
    "    def most_expensive(self):\n",
    "        print(self)"
   ]
  },
  {
   "cell_type": "markdown",
   "metadata": {},
   "source": [
    "So we specify a class method with the `@classmethod` decorator.  \n",
    "\n",
    "> For now, we are only printing out `self` in the body of the method.\n",
    "\n",
    "Ok, let's see how we can call our function."
   ]
  },
  {
   "cell_type": "code",
   "execution_count": 5,
   "metadata": {},
   "outputs": [
    {
     "name": "stdout",
     "output_type": "stream",
     "text": [
      "<class '__main__.Ingredient'>\n"
     ]
    }
   ],
   "source": [
    "Ingredient.most_expensive()"
   ]
  },
  {
   "cell_type": "markdown",
   "metadata": {},
   "source": [
    "Notice that we call a class method not on an instance, but on the class itself.  This makes sense: we are asking factory to answer a question.  Also, notice that when we print out `self` is not an instance but the `Ingredient` class.  \n",
    "\n",
    "> This follows our old rule that `self` is whatever is to the left of the `.`.  Here, we have `Ingredient.most_expensive()`."
   ]
  },
  {
   "cell_type": "markdown",
   "metadata": {},
   "source": [
    "### Connecting Class Methods to the Database"
   ]
  },
  {
   "cell_type": "markdown",
   "metadata": {},
   "source": [
    "If we think about class methods, like `Ingredient.most_expensive`, `Ingredient.expensive`, or `Ingredient.find_by_name`, we can see that these methods often translate to query methods in our SQL database.  For example here is how that `Ingredient.most_expensive` may look when it's filled in."
   ]
  },
  {
   "cell_type": "code",
   "execution_count": 34,
   "metadata": {},
   "outputs": [],
   "source": [
    "import sqlite3\n",
    "conn = sqlite3.connect('./moes_bar.db')\n",
    "cursor = conn.cursor()"
   ]
  },
  {
   "cell_type": "code",
   "execution_count": 55,
   "metadata": {},
   "outputs": [],
   "source": [
    "class Ingredient:\n",
    "    __table__ = 'ingredients'\n",
    "    columns = ['id', 'name', 'price']\n",
    "    def is_expensive(self):\n",
    "        return self.price > 10 \n",
    "    \n",
    "    @classmethod\n",
    "    def most_expensive(self, cursor):\n",
    "        cursor.execute(f\"SELECT * FROM {self.__table__} ORDER BY price DESC LIMIT 1\")\n",
    "        record = cursor.fetchone()\n",
    "        return record\n",
    "    \n",
    "    @classmethod\n",
    "    def expensive(self, cursor, price = 3):\n",
    "        cursor.execute(f\"SELECT * FROM ingredients WHERE price > ?\", (price,))\n",
    "        records = cursor.fetchall()\n",
    "        return records"
   ]
  },
  {
   "cell_type": "code",
   "execution_count": 56,
   "metadata": {},
   "outputs": [
    {
     "data": {
      "text/plain": [
       "[(2, 'tonic', 4), (8, 'duff beer', 5)]"
      ]
     },
     "execution_count": 56,
     "metadata": {},
     "output_type": "execute_result"
    }
   ],
   "source": [
    "Ingredient.expensive(cursor)"
   ]
  },
  {
   "cell_type": "code",
   "execution_count": 57,
   "metadata": {},
   "outputs": [
    {
     "data": {
      "text/plain": [
       "(8, 'duff beer', 5)"
      ]
     },
     "execution_count": 57,
     "metadata": {},
     "output_type": "execute_result"
    }
   ],
   "source": [
    "Ingredient.most_expensive(cursor)"
   ]
  },
  {
   "cell_type": "markdown",
   "metadata": {},
   "source": [
    "### Summary"
   ]
  },
  {
   "cell_type": "markdown",
   "metadata": {},
   "source": [
    "In this lesson, we saw how to implement class methods and how they align with our SQL queries. Now we use class methods when we want to ask a question that pertains to a collection of instances.  \n",
    "\n",
    "> Oftentimes, what's returned from our class method is an instance or a collection of instances.   "
   ]
  },
  {
   "cell_type": "markdown",
   "metadata": {},
   "source": [
    "To implement a `classmethod` we use `@classmethod` decorator.  "
   ]
  },
  {
   "cell_type": "code",
   "execution_count": 61,
   "metadata": {},
   "outputs": [],
   "source": [
    "class Ingredient:\n",
    "    @classmethod\n",
    "    def most_expensive(self, cursor):\n",
    "        cursor.execute(f\"SELECT * FROM ingredients ORDER BY price DESC LIMIT 1\")\n",
    "        record = cursor.fetchone()\n",
    "        return record"
   ]
  },
  {
   "cell_type": "markdown",
   "metadata": {},
   "source": [
    "And we call a class method with the name of the class followed by the method name."
   ]
  },
  {
   "cell_type": "code",
   "execution_count": 62,
   "metadata": {},
   "outputs": [
    {
     "data": {
      "text/plain": [
       "(8, 'duff beer', 5)"
      ]
     },
     "execution_count": 62,
     "metadata": {},
     "output_type": "execute_result"
    }
   ],
   "source": [
    "Ingredient.most_expensive(cursor)"
   ]
  },
  {
   "cell_type": "markdown",
   "metadata": {},
   "source": [
    "Notice taht when calling a class method, self is our class itself (here Ingredient).  And this follows our rule that self is whatever object is to the left of the dot, in our method call."
   ]
  },
  {
   "cell_type": "markdown",
   "metadata": {},
   "source": [
    "These class methods align where our select statements as, to answer a question about the collection, we need to perform a select statement to find the row or rows of data that contain the desired result."
   ]
  }
 ],
 "metadata": {
  "kernelspec": {
   "display_name": "Python 3",
   "language": "python",
   "name": "python3"
  },
  "language_info": {
   "codemirror_mode": {
    "name": "ipython",
    "version": 3
   },
   "file_extension": ".py",
   "mimetype": "text/x-python",
   "name": "python",
   "nbconvert_exporter": "python",
   "pygments_lexer": "ipython3",
   "version": "3.8.3"
  }
 },
 "nbformat": 4,
 "nbformat_minor": 4
}
